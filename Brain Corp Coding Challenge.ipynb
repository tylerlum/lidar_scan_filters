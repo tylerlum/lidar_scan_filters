{
 "cells": [
  {
   "cell_type": "code",
   "execution_count": 1,
   "metadata": {},
   "outputs": [],
   "source": [
    "import numpy as np"
   ]
  },
  {
   "cell_type": "code",
   "execution_count": 2,
   "metadata": {},
   "outputs": [],
   "source": [
    "class RangeFilter:\n",
    "    \"\"\"\n",
    "    A RangeFilter class that filters lidar scan data based on a minimum and maximum range\n",
    "\n",
    "    ...\n",
    "\n",
    "    Attributes\n",
    "    ----------\n",
    "    range_min : float\n",
    "        minimum range value\n",
    "        all values less than range_min will be cropped to range_min.\n",
    "    range_max : float\n",
    "        maximum range value\n",
    "        all values greater than range_max will be cropped to range_max.\n",
    "\n",
    "    \"\"\"\n",
    "    \n",
    "    def __init__(self, range_min, range_max):\n",
    "        \"\"\"\n",
    "        Initialize RangeFilter object\n",
    "        \n",
    "        Args:\n",
    "            range_min: minimum range value, all values less than range_min will be cropped to range_min.\n",
    "            range_max: maximum range value, all values greater than range_max will be cropped to range_max.\n",
    "\n",
    "        \"\"\"\n",
    "        # Store member variables\n",
    "        self.range_min = range_min\n",
    "        self.range_max = range_max\n",
    "\n",
    "    def update(self, lidar_scan):\n",
    "        \"\"\"\n",
    "        Filter lidar_scan using a range filter\n",
    "        \n",
    "        Args:\n",
    "            lidar_scan: numpy array of lidar range data\n",
    "            \n",
    "        Returns:\n",
    "            a numpy array with the same length as lidar_scan, which has been range filtered\n",
    "            all values in lidar_scan less than range_min will be changed to range_min\n",
    "            all values in lidar_scan greater than range_max will be changed to range_max            \n",
    "\n",
    "        \"\"\"\n",
    "        # Make copy to ensure no changes made to input \n",
    "        filtered_lidar_scan = np.copy(lidar_scan)\n",
    "\n",
    "        # Perform range filtering\n",
    "        filtered_lidar_scan[filtered_lidar_scan < self.range_min] = self.range_min\n",
    "        filtered_lidar_scan[filtered_lidar_scan > self.range_max] = self.range_max\n",
    "        return filtered_lidar_scan"
   ]
  },
  {
   "cell_type": "code",
   "execution_count": 3,
   "metadata": {},
   "outputs": [],
   "source": [
    "class TemporalMedianFilter:\n",
    "    \"\"\"\n",
    "    A TemporalMedianFilter class that filters lidar scan data based on a median of previous scans\n",
    "    ...\n",
    "\n",
    "    Attributes\n",
    "    ----------\n",
    "    D : int\n",
    "        number of previous scans to look at for median calculation (must be a non-negative integer) \n",
    "        finds median of current and previous D scans (total of D+1 scans)\n",
    "    lidar_scans : list\n",
    "        list of previous lidar scans to perform median calculation\n",
    "\n",
    "    \"\"\"\n",
    "    \n",
    "    def __init__(self, D):\n",
    "        \"\"\"\n",
    "        Initialize TemporalMedianFilter object\n",
    "        \n",
    "        Args:\n",
    "            D: number of previous scans to look at for median calculation (must be a non-negative integer) \n",
    "\n",
    "        \"\"\"\n",
    "        # Initialize member variables\n",
    "        self.D = D\n",
    "        self.lidar_scans = []\n",
    "\n",
    "    def update(self, lidar_scan):\n",
    "        \"\"\"\n",
    "        Filter lidar_scan using a temporal median filter\n",
    "        \n",
    "        Args:\n",
    "            lidar_scan: numpy array of lidar range data\n",
    "            \n",
    "        Returns:\n",
    "            a numpy array with the same length as lidar_scan, after passing through a temporal median filter\n",
    "            each element in the returned numpy array is the median of the current and previous D scans\n",
    "            for the first D scans, this will return the median of all the scans so far\n",
    "            y_i(t) = median(x_i(t) + x_i(t-1) + x_i(t-2) ... + x_i(t-D))\n",
    "\n",
    "        \"\"\"\n",
    "        # Remove stale scans\n",
    "        if (len(self.lidar_scans) > self.D):\n",
    "            self.lidar_scans = self.lidar_scans[-self.D:]\n",
    "            \n",
    "        # Add new lidar scans and compute median\n",
    "        self.lidar_scans.append(np.copy(lidar_scan))\n",
    "        np_lidar_scans = np.array(self.lidar_scans)\n",
    "        return np.median(np_lidar_scans, axis=0)     "
   ]
  },
  {
   "cell_type": "code",
   "execution_count": 4,
   "metadata": {},
   "outputs": [],
   "source": [
    "# Parameters\n",
    "range_min = 5\n",
    "range_max = 20\n",
    "D = 3\n",
    "N = 5\n",
    "\n",
    "data_min = 0.03\n",
    "data_spread = 49.97"
   ]
  },
  {
   "cell_type": "code",
   "execution_count": 5,
   "metadata": {},
   "outputs": [],
   "source": [
    "# Create filter objects\n",
    "rf = RangeFilter(range_min, range_max)\n",
    "tmf = TemporalMedianFilter(D)"
   ]
  },
  {
   "cell_type": "code",
   "execution_count": 6,
   "metadata": {},
   "outputs": [],
   "source": [
    "# Test lidar data\n",
    "ls1 = np.random.rand(N) * data_spread + data_min\n",
    "ls2 = np.random.rand(N) * data_spread + data_min\n",
    "ls3 = np.random.rand(N) * data_spread + data_min\n",
    "ls4 = np.random.rand(N) * data_spread + data_min\n",
    "ls5 = np.random.rand(N) * data_spread + data_min\n",
    "ls6 = np.random.rand(N) * data_spread + data_min\n",
    "ls7 = np.random.rand(N) * data_spread + data_min\n",
    "ls8 = np.random.rand(N) * data_spread + data_min"
   ]
  },
  {
   "cell_type": "code",
   "execution_count": 7,
   "metadata": {},
   "outputs": [
    {
     "name": "stdout",
     "output_type": "stream",
     "text": [
      "[29.29051424 44.48822432 15.29978941 38.81336441 45.38223664]\n",
      "[39.68742477 40.99351242 10.12709469 31.40417462  1.8844951 ]\n",
      "[44.39067702 19.65880271 36.47119016 15.85818929 38.81647709]\n",
      "[10.5227827  46.34054304 26.49107115 12.76173665 15.03798254]\n",
      "[27.94868514 22.35665449 19.38224579 27.53125167 22.97806083]\n",
      "[ 4.71423981 36.7038233   1.53809036  8.70066262  2.14240958]\n"
     ]
    }
   ],
   "source": [
    "# Show lidar data\n",
    "print((ls1))\n",
    "print((ls2))\n",
    "print((ls3))\n",
    "print((ls4))\n",
    "print((ls5))\n",
    "print((ls6))"
   ]
  },
  {
   "cell_type": "code",
   "execution_count": 8,
   "metadata": {},
   "outputs": [
    {
     "name": "stdout",
     "output_type": "stream",
     "text": [
      "[20.         20.         15.29978941 20.         20.        ]\n",
      "[20.         20.         10.12709469 20.          5.        ]\n",
      "[20.         19.65880271 20.         15.85818929 20.        ]\n",
      "[10.5227827  20.         20.         12.76173665 15.03798254]\n",
      "[20.         20.         19.38224579 20.         20.        ]\n",
      "[ 5.         20.          5.          8.70066262  5.        ]\n"
     ]
    }
   ],
   "source": [
    "# Test RangeFilter\n",
    "print(rf.update(ls1))\n",
    "print(rf.update(ls2))\n",
    "print(rf.update(ls3))\n",
    "print(rf.update(ls4))\n",
    "print(rf.update(ls5))\n",
    "print(rf.update(ls6))"
   ]
  },
  {
   "cell_type": "code",
   "execution_count": 9,
   "metadata": {},
   "outputs": [
    {
     "name": "stdout",
     "output_type": "stream",
     "text": [
      "[29.29051424 44.48822432 15.29978941 38.81336441 45.38223664]\n",
      "[34.4889695  42.74086837 12.71344205 35.10876952 23.63336587]\n",
      "[39.68742477 40.99351242 15.29978941 31.40417462 38.81647709]\n",
      "[34.4889695  42.74086837 20.89543028 23.63118196 26.92722982]\n",
      "[33.81805495 31.67508346 22.93665847 21.69472048 19.00802168]\n",
      "[19.23573392 29.5302389  22.93665847 14.30996297 19.00802168]\n"
     ]
    }
   ],
   "source": [
    "# Test Temporal Median Filter\n",
    "print(tmf.update(ls1))\n",
    "print(tmf.update(ls2))\n",
    "print(tmf.update(ls3))\n",
    "print(tmf.update(ls4))\n",
    "print(tmf.update(ls5))\n",
    "print(tmf.update(ls6))"
   ]
  },
  {
   "cell_type": "code",
   "execution_count": 10,
   "metadata": {},
   "outputs": [
    {
     "name": "stdout",
     "output_type": "stream",
     "text": [
      "<class 'int'>\n"
     ]
    }
   ],
   "source": [
    "print(type(1))"
   ]
  },
  {
   "cell_type": "code",
   "execution_count": 11,
   "metadata": {},
   "outputs": [
    {
     "name": "stdout",
     "output_type": "stream",
     "text": [
      "<class 'list'>\n"
     ]
    }
   ],
   "source": [
    "print(type(tmf.lidar_scans))"
   ]
  },
  {
   "cell_type": "code",
   "execution_count": null,
   "metadata": {},
   "outputs": [],
   "source": []
  }
 ],
 "metadata": {
  "kernelspec": {
   "display_name": "Python 3",
   "language": "python",
   "name": "python3"
  },
  "language_info": {
   "codemirror_mode": {
    "name": "ipython",
    "version": 3
   },
   "file_extension": ".py",
   "mimetype": "text/x-python",
   "name": "python",
   "nbconvert_exporter": "python",
   "pygments_lexer": "ipython3",
   "version": "3.7.1"
  }
 },
 "nbformat": 4,
 "nbformat_minor": 2
}
